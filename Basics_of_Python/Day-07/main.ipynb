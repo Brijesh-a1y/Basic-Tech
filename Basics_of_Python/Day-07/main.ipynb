{
 "cells": [
  {
   "cell_type": "code",
   "execution_count": 37,
   "id": "da3b1b02",
   "metadata": {},
   "outputs": [],
   "source": [
    "import pandas as pd\n",
    "import matplotlib.pyplot as plt"
   ]
  },
  {
   "cell_type": "code",
   "execution_count": 2,
   "id": "e9ec70a8",
   "metadata": {},
   "outputs": [],
   "source": [
    "df = pd.read_csv('data.csv')"
   ]
  },
  {
   "cell_type": "code",
   "execution_count": 3,
   "id": "f1b82f0f",
   "metadata": {},
   "outputs": [
    {
     "data": {
      "text/html": [
       "<div>\n",
       "<style scoped>\n",
       "    .dataframe tbody tr th:only-of-type {\n",
       "        vertical-align: middle;\n",
       "    }\n",
       "\n",
       "    .dataframe tbody tr th {\n",
       "        vertical-align: top;\n",
       "    }\n",
       "\n",
       "    .dataframe thead th {\n",
       "        text-align: right;\n",
       "    }\n",
       "</style>\n",
       "<table border=\"1\" class=\"dataframe\">\n",
       "  <thead>\n",
       "    <tr style=\"text-align: right;\">\n",
       "      <th></th>\n",
       "      <th>Make</th>\n",
       "      <th>Model</th>\n",
       "      <th>Year</th>\n",
       "      <th>Engine Fuel Type</th>\n",
       "      <th>Engine HP</th>\n",
       "      <th>Engine Cylinders</th>\n",
       "      <th>Transmission Type</th>\n",
       "      <th>Driven_Wheels</th>\n",
       "      <th>Number of Doors</th>\n",
       "      <th>Market Category</th>\n",
       "      <th>Vehicle Size</th>\n",
       "      <th>Vehicle Style</th>\n",
       "      <th>highway MPG</th>\n",
       "      <th>city mpg</th>\n",
       "      <th>Popularity</th>\n",
       "      <th>MSRP</th>\n",
       "    </tr>\n",
       "  </thead>\n",
       "  <tbody>\n",
       "    <tr>\n",
       "      <th>0</th>\n",
       "      <td>BMW</td>\n",
       "      <td>1 Series M</td>\n",
       "      <td>2011</td>\n",
       "      <td>premium unleaded (required)</td>\n",
       "      <td>335.0</td>\n",
       "      <td>6.0</td>\n",
       "      <td>MANUAL</td>\n",
       "      <td>rear wheel drive</td>\n",
       "      <td>2.0</td>\n",
       "      <td>Factory Tuner,Luxury,High-Performance</td>\n",
       "      <td>Compact</td>\n",
       "      <td>Coupe</td>\n",
       "      <td>26</td>\n",
       "      <td>19</td>\n",
       "      <td>3916</td>\n",
       "      <td>46135</td>\n",
       "    </tr>\n",
       "    <tr>\n",
       "      <th>1</th>\n",
       "      <td>BMW</td>\n",
       "      <td>1 Series</td>\n",
       "      <td>2011</td>\n",
       "      <td>premium unleaded (required)</td>\n",
       "      <td>300.0</td>\n",
       "      <td>6.0</td>\n",
       "      <td>MANUAL</td>\n",
       "      <td>rear wheel drive</td>\n",
       "      <td>2.0</td>\n",
       "      <td>Luxury,Performance</td>\n",
       "      <td>Compact</td>\n",
       "      <td>Convertible</td>\n",
       "      <td>28</td>\n",
       "      <td>19</td>\n",
       "      <td>3916</td>\n",
       "      <td>40650</td>\n",
       "    </tr>\n",
       "    <tr>\n",
       "      <th>2</th>\n",
       "      <td>BMW</td>\n",
       "      <td>1 Series</td>\n",
       "      <td>2011</td>\n",
       "      <td>premium unleaded (required)</td>\n",
       "      <td>300.0</td>\n",
       "      <td>6.0</td>\n",
       "      <td>MANUAL</td>\n",
       "      <td>rear wheel drive</td>\n",
       "      <td>2.0</td>\n",
       "      <td>Luxury,High-Performance</td>\n",
       "      <td>Compact</td>\n",
       "      <td>Coupe</td>\n",
       "      <td>28</td>\n",
       "      <td>20</td>\n",
       "      <td>3916</td>\n",
       "      <td>36350</td>\n",
       "    </tr>\n",
       "  </tbody>\n",
       "</table>\n",
       "</div>"
      ],
      "text/plain": [
       "  Make       Model  Year             Engine Fuel Type  Engine HP  \\\n",
       "0  BMW  1 Series M  2011  premium unleaded (required)      335.0   \n",
       "1  BMW    1 Series  2011  premium unleaded (required)      300.0   \n",
       "2  BMW    1 Series  2011  premium unleaded (required)      300.0   \n",
       "\n",
       "   Engine Cylinders Transmission Type     Driven_Wheels  Number of Doors  \\\n",
       "0               6.0            MANUAL  rear wheel drive              2.0   \n",
       "1               6.0            MANUAL  rear wheel drive              2.0   \n",
       "2               6.0            MANUAL  rear wheel drive              2.0   \n",
       "\n",
       "                         Market Category Vehicle Size Vehicle Style  \\\n",
       "0  Factory Tuner,Luxury,High-Performance      Compact         Coupe   \n",
       "1                     Luxury,Performance      Compact   Convertible   \n",
       "2                Luxury,High-Performance      Compact         Coupe   \n",
       "\n",
       "   highway MPG  city mpg  Popularity   MSRP  \n",
       "0           26        19        3916  46135  \n",
       "1           28        19        3916  40650  \n",
       "2           28        20        3916  36350  "
      ]
     },
     "execution_count": 3,
     "metadata": {},
     "output_type": "execute_result"
    }
   ],
   "source": [
    "df.head(3)"
   ]
  },
  {
   "cell_type": "code",
   "execution_count": 6,
   "id": "2e98a948",
   "metadata": {},
   "outputs": [
    {
     "name": "stdout",
     "output_type": "stream",
     "text": [
      "Make                    0\n",
      "Model                   0\n",
      "Year                    0\n",
      "Engine Fuel Type        3\n",
      "Engine HP              69\n",
      "Engine Cylinders       30\n",
      "Transmission Type       0\n",
      "Driven_Wheels           0\n",
      "Number of Doors         6\n",
      "Market Category      3742\n",
      "Vehicle Size            0\n",
      "Vehicle Style           0\n",
      "highway MPG             0\n",
      "city mpg                0\n",
      "Popularity              0\n",
      "MSRP                    0\n",
      "dtype: int64\n"
     ]
    }
   ],
   "source": [
    "count = df.isnull().sum()\n",
    "print(count)"
   ]
  },
  {
   "cell_type": "code",
   "execution_count": 7,
   "id": "14c838d9",
   "metadata": {},
   "outputs": [
    {
     "data": {
      "text/plain": [
       "(11914, 16)"
      ]
     },
     "execution_count": 7,
     "metadata": {},
     "output_type": "execute_result"
    }
   ],
   "source": [
    "df.shape"
   ]
  },
  {
   "cell_type": "code",
   "execution_count": 8,
   "id": "7be75630",
   "metadata": {},
   "outputs": [
    {
     "name": "stdout",
     "output_type": "stream",
     "text": [
      "<class 'pandas.core.frame.DataFrame'>\n",
      "RangeIndex: 11914 entries, 0 to 11913\n",
      "Data columns (total 16 columns):\n",
      " #   Column             Non-Null Count  Dtype  \n",
      "---  ------             --------------  -----  \n",
      " 0   Make               11914 non-null  object \n",
      " 1   Model              11914 non-null  object \n",
      " 2   Year               11914 non-null  int64  \n",
      " 3   Engine Fuel Type   11911 non-null  object \n",
      " 4   Engine HP          11845 non-null  float64\n",
      " 5   Engine Cylinders   11884 non-null  float64\n",
      " 6   Transmission Type  11914 non-null  object \n",
      " 7   Driven_Wheels      11914 non-null  object \n",
      " 8   Number of Doors    11908 non-null  float64\n",
      " 9   Market Category    8172 non-null   object \n",
      " 10  Vehicle Size       11914 non-null  object \n",
      " 11  Vehicle Style      11914 non-null  object \n",
      " 12  highway MPG        11914 non-null  int64  \n",
      " 13  city mpg           11914 non-null  int64  \n",
      " 14  Popularity         11914 non-null  int64  \n",
      " 15  MSRP               11914 non-null  int64  \n",
      "dtypes: float64(3), int64(5), object(8)\n",
      "memory usage: 1.5+ MB\n"
     ]
    }
   ],
   "source": [
    "df.info()"
   ]
  },
  {
   "cell_type": "code",
   "execution_count": 9,
   "id": "29104f76",
   "metadata": {},
   "outputs": [
    {
     "data": {
      "text/plain": [
       "Make                  object\n",
       "Model                 object\n",
       "Year                   int64\n",
       "Engine Fuel Type      object\n",
       "Engine HP            float64\n",
       "Engine Cylinders     float64\n",
       "Transmission Type     object\n",
       "Driven_Wheels         object\n",
       "Number of Doors      float64\n",
       "Market Category       object\n",
       "Vehicle Size          object\n",
       "Vehicle Style         object\n",
       "highway MPG            int64\n",
       "city mpg               int64\n",
       "Popularity             int64\n",
       "MSRP                   int64\n",
       "dtype: object"
      ]
     },
     "execution_count": 9,
     "metadata": {},
     "output_type": "execute_result"
    }
   ],
   "source": [
    "df.dtypes\n"
   ]
  },
  {
   "cell_type": "code",
   "execution_count": 12,
   "id": "20c360dc",
   "metadata": {},
   "outputs": [],
   "source": [
    "df = df.drop(['Engine Fuel Type','Market Category','Vehicle Style','Popularity','Number of Doors','Vehicle Size'],axis=1)"
   ]
  },
  {
   "cell_type": "code",
   "execution_count": 13,
   "id": "04dec9f2",
   "metadata": {},
   "outputs": [
    {
     "data": {
      "text/plain": [
       "(11914, 10)"
      ]
     },
     "execution_count": 13,
     "metadata": {},
     "output_type": "execute_result"
    }
   ],
   "source": [
    "df.shape"
   ]
  },
  {
   "cell_type": "code",
   "execution_count": 14,
   "id": "0f962367",
   "metadata": {},
   "outputs": [],
   "source": [
    "df = df.rename(columns={'Engine HP':'HP',\n",
    "                        'Engine Cylinders':'Cylinder',\n",
    "                        'Transmission Type':'Transmission',\n",
    "                        'Driven_Wheels':'Drive mode',\n",
    "                        'highway MPG':'MPG-H',\n",
    "                        'city mpg':'MPG-C',\n",
    "                        'MSRP':'Price'})"
   ]
  },
  {
   "cell_type": "code",
   "execution_count": 15,
   "id": "b7f3ac70",
   "metadata": {},
   "outputs": [
    {
     "data": {
      "text/html": [
       "<div>\n",
       "<style scoped>\n",
       "    .dataframe tbody tr th:only-of-type {\n",
       "        vertical-align: middle;\n",
       "    }\n",
       "\n",
       "    .dataframe tbody tr th {\n",
       "        vertical-align: top;\n",
       "    }\n",
       "\n",
       "    .dataframe thead th {\n",
       "        text-align: right;\n",
       "    }\n",
       "</style>\n",
       "<table border=\"1\" class=\"dataframe\">\n",
       "  <thead>\n",
       "    <tr style=\"text-align: right;\">\n",
       "      <th></th>\n",
       "      <th>Make</th>\n",
       "      <th>Model</th>\n",
       "      <th>Year</th>\n",
       "      <th>HP</th>\n",
       "      <th>Cylinder</th>\n",
       "      <th>Transmission</th>\n",
       "      <th>Drive mode</th>\n",
       "      <th>MPG-H</th>\n",
       "      <th>MPG-C</th>\n",
       "      <th>Price</th>\n",
       "    </tr>\n",
       "  </thead>\n",
       "  <tbody>\n",
       "    <tr>\n",
       "      <th>0</th>\n",
       "      <td>BMW</td>\n",
       "      <td>1 Series M</td>\n",
       "      <td>2011</td>\n",
       "      <td>335.0</td>\n",
       "      <td>6.0</td>\n",
       "      <td>MANUAL</td>\n",
       "      <td>rear wheel drive</td>\n",
       "      <td>26</td>\n",
       "      <td>19</td>\n",
       "      <td>46135</td>\n",
       "    </tr>\n",
       "  </tbody>\n",
       "</table>\n",
       "</div>"
      ],
      "text/plain": [
       "  Make       Model  Year     HP  Cylinder Transmission        Drive mode  \\\n",
       "0  BMW  1 Series M  2011  335.0       6.0       MANUAL  rear wheel drive   \n",
       "\n",
       "   MPG-H  MPG-C  Price  \n",
       "0     26     19  46135  "
      ]
     },
     "execution_count": 15,
     "metadata": {},
     "output_type": "execute_result"
    }
   ],
   "source": [
    "df.head(1)"
   ]
  },
  {
   "cell_type": "code",
   "execution_count": 16,
   "id": "10aeb3e7",
   "metadata": {},
   "outputs": [
    {
     "name": "stdout",
     "output_type": "stream",
     "text": [
      "Duplicate rows (989, 10)\n"
     ]
    }
   ],
   "source": [
    "duplicated_row_df = df[df.duplicated()]\n",
    "print('Duplicate rows',duplicated_row_df.shape)"
   ]
  },
  {
   "cell_type": "code",
   "execution_count": 21,
   "id": "c12b3810",
   "metadata": {},
   "outputs": [],
   "source": [
    "df = df.drop_duplicates()"
   ]
  },
  {
   "cell_type": "code",
   "execution_count": 22,
   "id": "bee884d1",
   "metadata": {},
   "outputs": [
    {
     "data": {
      "text/plain": [
       "Make            10925\n",
       "Model           10925\n",
       "Year            10925\n",
       "HP              10856\n",
       "Cylinder        10895\n",
       "Transmission    10925\n",
       "Drive mode      10925\n",
       "MPG-H           10925\n",
       "MPG-C           10925\n",
       "Price           10925\n",
       "dtype: int64"
      ]
     },
     "execution_count": 22,
     "metadata": {},
     "output_type": "execute_result"
    }
   ],
   "source": [
    "df.count()"
   ]
  },
  {
   "cell_type": "code",
   "execution_count": 28,
   "id": "7604d267",
   "metadata": {},
   "outputs": [
    {
     "data": {
      "text/plain": [
       "np.int64(69)"
      ]
     },
     "execution_count": 28,
     "metadata": {},
     "output_type": "execute_result"
    }
   ],
   "source": [
    "df['HP'].isnull().sum()"
   ]
  },
  {
   "cell_type": "code",
   "execution_count": 29,
   "id": "8cdb53d0",
   "metadata": {},
   "outputs": [],
   "source": [
    "df = df.dropna()"
   ]
  },
  {
   "cell_type": "code",
   "execution_count": 30,
   "id": "a20e266c",
   "metadata": {},
   "outputs": [
    {
     "data": {
      "text/plain": [
       "Make            10827\n",
       "Model           10827\n",
       "Year            10827\n",
       "HP              10827\n",
       "Cylinder        10827\n",
       "Transmission    10827\n",
       "Drive mode      10827\n",
       "MPG-H           10827\n",
       "MPG-C           10827\n",
       "Price           10827\n",
       "dtype: int64"
      ]
     },
     "execution_count": 30,
     "metadata": {},
     "output_type": "execute_result"
    }
   ],
   "source": [
    "df.count()"
   ]
  },
  {
   "cell_type": "code",
   "execution_count": 35,
   "id": "fc2b1814",
   "metadata": {},
   "outputs": [
    {
     "name": "stdout",
     "output_type": "stream",
     "text": [
      "21327.5\n",
      "-10018.75\n",
      "75291.25\n"
     ]
    }
   ],
   "source": [
    "# outlier detection\n",
    "Q1 = df['Price'].quantile(0.25)\n",
    "Q3 = df['Price'].quantile(0.75)\n",
    "IQR = Q3-Q1\n",
    "print(IQR)\n",
    "\n",
    "lower_bound = Q1-(1.5*IQR)\n",
    "upper_bound = Q3+(1.5*IQR)\n",
    "print(lower_bound)\n",
    "print(upper_bound)"
   ]
  },
  {
   "cell_type": "code",
   "execution_count": 38,
   "id": "a522b956",
   "metadata": {},
   "outputs": [
    {
     "data": {
      "text/plain": [
       "Text(0.5, 0, 'Make')"
      ]
     },
     "execution_count": 38,
     "metadata": {},
     "output_type": "execute_result"
    },
    {
     "data": {
      "image/png": "[encoded data removed]",
      "text/plain": [
       "<Figure size 1000x500 with 1 Axes>"
      ]
     },
     "metadata": {},
     "output_type": "display_data"
    }
   ],
   "source": [
    "\n",
    "df.Make.value_counts().nlargest(40).plot(kind='bar',figsize=(10,5))\n",
    "plt.title('Number of car by make')\n",
    "plt.ylabel('Number of cars')\n",
    "plt.xlabel('Make')\n"
   ]
  },
  {
   "cell_type": "code",
   "execution_count": 33,
   "id": "e5e03f5b",
   "metadata": {},
   "outputs": [],
   "source": [
    "import seaborn as sns"
   ]
  },
  {
   "cell_type": "code",
   "execution_count": null,
   "id": "3dd59448",
   "metadata": {},
   "outputs": [],
   "source": [
    "sns.boxplot(x=df['Price'])"
   ]
  },
  {
   "cell_type": "code",
   "execution_count": 45,
   "id": "6846ec6e",
   "metadata": {},
   "outputs": [
    {
     "data": {
      "text/plain": [
       "<Axes: >"
      ]
     },
     "execution_count": 45,
     "metadata": {},
     "output_type": "execute_result"
    },
    {
     "data": {
      "image/png": "[encoded data removed]",
      "text/plain": [
       "<Figure size 1000x500 with 2 Axes>"
      ]
     },
     "metadata": {},
     "output_type": "display_data"
    }
   ],
   "source": [
    "plt.figure(figsize=(10,5))\n",
    "df= df.select_dtypes(include='number')\n",
    "c = df.corr()\n",
    "sns.heatmap(c,cmap='BrBG',annot=True)"
   ]
  },
  {
   "cell_type": "code",
   "execution_count": 50,
   "id": "68cdcae4",
   "metadata": {},
   "outputs": [
    {
     "data": {
      "image/png": "[encoded data removed]",
      "text/plain": [
       "<Figure size 1000x600 with 1 Axes>"
      ]
     },
     "metadata": {},
     "output_type": "display_data"
    }
   ],
   "source": [
    "# scatter plot\n",
    "fig,ax = plt.subplots(figsize=(10,6))\n",
    "ax.scatter(df['HP'],df['Price'])\n",
    "ax.set_xlabel('HP')\n",
    "ax.set_ylabel('Price')\n",
    "plt.show()"
   ]
  },
  {
   "cell_type": "code",
   "execution_count": 51,
   "id": "e6882d05",
   "metadata": {},
   "outputs": [
    {
     "name": "stdout",
     "output_type": "stream",
     "text": [
      "Collecting scikit-learn\n",
      "  Downloading scikit_learn-1.7.2-cp311-cp311-win_amd64.whl.metadata (11 kB)\n",
      "Requirement already satisfied: numpy>=1.22.0 in c:\\users\\user\\appdata\\local\\programs\\python\\python311\\lib\\site-packages (from scikit-learn) (2.3.2)\n",
      "Collecting scipy>=1.8.0 (from scikit-learn)\n",
      "  Downloading scipy-1.16.1-cp311-cp311-win_amd64.whl.metadata (60 kB)\n",
      "     ---------------------------------------- 0.0/60.8 kB ? eta -:--:--\n",
      "     ------ --------------------------------- 10.2/60.8 kB ? eta -:--:--\n",
      "     ------------------------- ------------ 41.0/60.8 kB 653.6 kB/s eta 0:00:01\n",
      "     -------------------------------------- 60.8/60.8 kB 648.3 kB/s eta 0:00:00\n",
      "Collecting joblib>=1.2.0 (from scikit-learn)\n",
      "  Downloading joblib-1.5.2-py3-none-any.whl.metadata (5.6 kB)\n",
      "Collecting threadpoolctl>=3.1.0 (from scikit-learn)\n",
      "  Downloading threadpoolctl-3.6.0-py3-none-any.whl.metadata (13 kB)\n",
      "Downloading scikit_learn-1.7.2-cp311-cp311-win_amd64.whl (8.9 MB)\n",
      "   ---------------------------------------- 0.0/8.9 MB ? eta -:--:--\n",
      "    --------------------------------------- 0.2/8.9 MB 4.6 MB/s eta 0:00:02\n",
      "   -- ------------------------------------- 0.5/8.9 MB 5.9 MB/s eta 0:00:02\n",
      "   ----- ---------------------------------- 1.3/8.9 MB 10.0 MB/s eta 0:00:01\n",
      "   ----------- ---------------------------- 2.5/8.9 MB 14.6 MB/s eta 0:00:01\n",
      "   ------------- -------------------------- 3.1/8.9 MB 15.2 MB/s eta 0:00:01\n",
      "   ------------------ --------------------- 4.2/8.9 MB 15.6 MB/s eta 0:00:01\n",
      "   ---------------------- ----------------- 5.0/8.9 MB 16.8 MB/s eta 0:00:01\n",
      "   ------------------------- -------------- 5.7/8.9 MB 17.3 MB/s eta 0:00:01\n",
      "   ------------------------- -------------- 5.7/8.9 MB 17.3 MB/s eta 0:00:01\n",
      "   --------------------------- ------------ 6.0/8.9 MB 14.3 MB/s eta 0:00:01\n",
      "   ------------------------------------ --- 8.2/8.9 MB 17.4 MB/s eta 0:00:01\n",
      "   ---------------------------------------  8.9/8.9 MB 17.8 MB/s eta 0:00:01\n",
      "   ---------------------------------------- 8.9/8.9 MB 16.2 MB/s eta 0:00:00\n",
      "Downloading joblib-1.5.2-py3-none-any.whl (308 kB)\n",
      "   ---------------------------------------- 0.0/308.4 kB ? eta -:--:--\n",
      "   --------------------------------------- 308.4/308.4 kB 18.6 MB/s eta 0:00:00\n",
      "Downloading scipy-1.16.1-cp311-cp311-win_amd64.whl (38.6 MB)\n",
      "   ---------------------------------------- 0.0/38.6 MB ? eta -:--:--\n",
      "   - -------------------------------------- 1.4/38.6 MB 43.2 MB/s eta 0:00:01\n",
      "   -- ------------------------------------- 2.3/38.6 MB 29.9 MB/s eta 0:00:02\n",
      "   -- ------------------------------------- 2.9/38.6 MB 22.9 MB/s eta 0:00:02\n",
      "   --- ------------------------------------ 3.6/38.6 MB 21.0 MB/s eta 0:00:02\n",
      "   ---- ----------------------------------- 4.1/38.6 MB 20.1 MB/s eta 0:00:02\n",
      "   ---- ----------------------------------- 4.8/38.6 MB 20.2 MB/s eta 0:00:02\n",
      "   ------ --------------------------------- 6.2/38.6 MB 21.8 MB/s eta 0:00:02\n",
      "   ------ --------------------------------- 6.6/38.6 MB 21.1 MB/s eta 0:00:02\n",
      "   -------- ------------------------------- 7.9/38.6 MB 21.1 MB/s eta 0:00:02\n",
      "   --------- ------------------------------ 8.9/38.6 MB 21.2 MB/s eta 0:00:02\n",
      "   ---------- ----------------------------- 10.3/38.6 MB 21.8 MB/s eta 0:00:02\n",
      "   ----------- ---------------------------- 11.0/38.6 MB 20.5 MB/s eta 0:00:02\n",
      "   ------------ --------------------------- 12.4/38.6 MB 21.1 MB/s eta 0:00:02\n",
      "   ------------- -------------------------- 13.2/38.6 MB 21.8 MB/s eta 0:00:02\n",
      "   -------------- ------------------------- 13.8/38.6 MB 21.8 MB/s eta 0:00:02\n",
      "   -------------- ------------------------- 14.4/38.6 MB 21.8 MB/s eta 0:00:02\n",
      "   --------------- ------------------------ 15.2/38.6 MB 21.1 MB/s eta 0:00:02\n",
      "   ---------------- ----------------------- 16.0/38.6 MB 20.5 MB/s eta 0:00:02\n",
      "   ----------------- ---------------------- 16.7/38.6 MB 20.5 MB/s eta 0:00:02\n",
      "   ------------------ --------------------- 17.5/38.6 MB 20.5 MB/s eta 0:00:02\n",
      "   ------------------ --------------------- 18.3/38.6 MB 20.5 MB/s eta 0:00:01\n",
      "   -------------------- ------------------- 19.4/38.6 MB 19.9 MB/s eta 0:00:01\n",
      "   -------------------- ------------------- 20.3/38.6 MB 19.8 MB/s eta 0:00:01\n",
      "   --------------------- ------------------ 21.0/38.6 MB 19.2 MB/s eta 0:00:01\n",
      "   ---------------------- ----------------- 21.4/38.6 MB 18.7 MB/s eta 0:00:01\n",
      "   ---------------------- ----------------- 21.5/38.6 MB 16.8 MB/s eta 0:00:02\n",
      "   ---------------------- ----------------- 22.1/38.6 MB 16.4 MB/s eta 0:00:02\n",
      "   ----------------------- ---------------- 22.9/38.6 MB 16.0 MB/s eta 0:00:01\n",
      "   ----------------------- ---------------- 22.9/38.6 MB 16.0 MB/s eta 0:00:01\n",
      "   ------------------------ --------------- 23.5/38.6 MB 15.2 MB/s eta 0:00:01\n",
      "   ------------------------ --------------- 24.0/38.6 MB 14.6 MB/s eta 0:00:02\n",
      "   ------------------------- -------------- 25.1/38.6 MB 15.2 MB/s eta 0:00:01\n",
      "   -------------------------- ------------- 25.8/38.6 MB 15.2 MB/s eta 0:00:01\n",
      "   --------------------------- ------------ 26.4/38.6 MB 15.6 MB/s eta 0:00:01\n",
      "   ---------------------------- ----------- 27.1/38.6 MB 14.9 MB/s eta 0:00:01\n",
      "   ----------------------------- ---------- 28.1/38.6 MB 15.2 MB/s eta 0:00:01\n",
      "   ----------------------------- ---------- 28.8/38.6 MB 14.9 MB/s eta 0:00:01\n",
      "   ------------------------------ --------- 29.6/38.6 MB 15.2 MB/s eta 0:00:01\n",
      "   ------------------------------- -------- 30.5/38.6 MB 14.9 MB/s eta 0:00:01\n",
      "   -------------------------------- ------- 31.3/38.6 MB 14.9 MB/s eta 0:00:01\n",
      "   -------------------------------- ------- 31.8/38.6 MB 16.0 MB/s eta 0:00:01\n",
      "   ---------------------------------- ----- 32.9/38.6 MB 16.8 MB/s eta 0:00:01\n",
      "   ---------------------------------- ----- 33.6/38.6 MB 18.2 MB/s eta 0:00:01\n",
      "   ---------------------------------- ----- 33.8/38.6 MB 18.2 MB/s eta 0:00:01\n",
      "   ---------------------------------- ----- 33.8/38.6 MB 18.2 MB/s eta 0:00:01\n",
      "   ------------------------------------- -- 36.1/38.6 MB 18.7 MB/s eta 0:00:01\n",
      "   -------------------------------------- - 36.8/38.6 MB 19.3 MB/s eta 0:00:01\n",
      "   -------------------------------------- - 37.7/38.6 MB 19.3 MB/s eta 0:00:01\n",
      "   ---------------------------------------  37.9/38.6 MB 17.7 MB/s eta 0:00:01\n",
      "   ---------------------------------------  38.6/38.6 MB 18.2 MB/s eta 0:00:01\n",
      "   ---------------------------------------  38.6/38.6 MB 18.2 MB/s eta 0:00:01\n",
      "   ---------------------------------------- 38.6/38.6 MB 15.2 MB/s eta 0:00:00\n",
      "Downloading threadpoolctl-3.6.0-py3-none-any.whl (18 kB)\n",
      "Installing collected packages: threadpoolctl, scipy, joblib, scikit-learn\n",
      "Successfully installed joblib-1.5.2 scikit-learn-1.7.2 scipy-1.16.1 threadpoolctl-3.6.0\n"
     ]
    },
    {
     "name": "stderr",
     "output_type": "stream",
     "text": [
      "\n",
      "[notice] A new release of pip is available: 24.0 -> 25.2\n",
      "[notice] To update, run: python.exe -m pip install --upgrade pip\n"
     ]
    }
   ],
   "source": [
    "!pip install scikit-learn"
   ]
  },
  {
   "cell_type": "code",
   "execution_count": null,
   "id": "f978e5a0",
   "metadata": {},
   "outputs": [],
   "source": []
  }
 ],
 "metadata": {
  "kernelspec": {
   "display_name": "Python 3",
   "language": "python",
   "name": "python3"
  },
  "language_info": {
   "codemirror_mode": {
    "name": "ipython",
    "version": 3
   },
   "file_extension": ".py",
   "mimetype": "text/x-python",
   "name": "python",
   "nbconvert_exporter": "python",
   "pygments_lexer": "ipython3",
   "version": "3.11.9"
  }
 },
 "nbformat": 4,
 "nbformat_minor": 5
}
